{
  "nbformat": 4,
  "nbformat_minor": 0,
  "metadata": {
    "colab": {
      "name": "Yeh1107.ipynb",
      "provenance": [],
      "collapsed_sections": [],
      "include_colab_link": true
    },
    "kernelspec": {
      "name": "python3",
      "display_name": "Python 3"
    }
  },
  "cells": [
    {
      "cell_type": "markdown",
      "metadata": {
        "id": "view-in-github",
        "colab_type": "text"
      },
      "source": [
        "<a href=\"https://colab.research.google.com/github/YE-GANWEI/basic_algorithms_a/blob/master/Yeh1107.ipynb\" target=\"_parent\"><img src=\"https://colab.research.google.com/assets/colab-badge.svg\" alt=\"Open In Colab\"/></a>"
      ]
    },
    {
      "cell_type": "markdown",
      "metadata": {
        "id": "_awqQDo0-scV",
        "colab_type": "text"
      },
      "source": [
        "#練習\n",
        "1."
      ]
    },
    {
      "cell_type": "code",
      "metadata": {
        "id": "Tvu11f3P--RV",
        "colab_type": "code",
        "outputId": "65756af5-22e6-4be1-9f31-fa0b8c9edb94",
        "colab": {
          "base_uri": "https://localhost:8080/",
          "height": 34
        }
      },
      "source": [
        "a=2\n",
        "a+2"
      ],
      "execution_count": 0,
      "outputs": [
        {
          "output_type": "execute_result",
          "data": {
            "text/plain": [
              "4"
            ]
          },
          "metadata": {
            "tags": []
          },
          "execution_count": 7
        }
      ]
    },
    {
      "cell_type": "markdown",
      "metadata": {
        "id": "87Cy9axv_b1S",
        "colab_type": "text"
      },
      "source": [
        "2."
      ]
    },
    {
      "cell_type": "code",
      "metadata": {
        "id": "uoTvdrcp_dEK",
        "colab_type": "code",
        "outputId": "93976027-c3b7-4c41-8e6f-6e0c45a22088",
        "colab": {
          "base_uri": "https://localhost:8080/",
          "height": 34
        }
      },
      "source": [
        "a=4\n",
        "b=5\n",
        "a*b"
      ],
      "execution_count": 0,
      "outputs": [
        {
          "output_type": "execute_result",
          "data": {
            "text/plain": [
              "20"
            ]
          },
          "metadata": {
            "tags": []
          },
          "execution_count": 8
        }
      ]
    },
    {
      "cell_type": "markdown",
      "metadata": {
        "id": "CovUQ4It_h_F",
        "colab_type": "text"
      },
      "source": [
        "3."
      ]
    },
    {
      "cell_type": "code",
      "metadata": {
        "id": "YJLz4twL_is_",
        "colab_type": "code",
        "outputId": "5325bc13-7d45-48f9-d152-fcea365a8ff3",
        "colab": {
          "base_uri": "https://localhost:8080/",
          "height": 34
        }
      },
      "source": [
        "c=10\n",
        "c**=b\n",
        "print(c)"
      ],
      "execution_count": 0,
      "outputs": [
        {
          "output_type": "stream",
          "text": [
            "10\n"
          ],
          "name": "stdout"
        }
      ]
    },
    {
      "cell_type": "markdown",
      "metadata": {
        "id": "7r9mrzIq_nKV",
        "colab_type": "text"
      },
      "source": [
        "#練習２\n",
        "1."
      ]
    },
    {
      "cell_type": "code",
      "metadata": {
        "id": "52Udxvqg_65Z",
        "colab_type": "code",
        "outputId": "a42157c7-2d49-4679-a8b7-4a8e962ccabc",
        "colab": {
          "base_uri": "https://localhost:8080/",
          "height": 34
        }
      },
      "source": [
        "a=13\n",
        "b=a%2\n",
        "if b==1 :\n",
        "  print(\"true\")\n",
        "else: \n",
        "  print(\"false\")"
      ],
      "execution_count": 0,
      "outputs": [
        {
          "output_type": "stream",
          "text": [
            "true\n"
          ],
          "name": "stdout"
        }
      ]
    },
    {
      "cell_type": "markdown",
      "metadata": {
        "id": "c9UN_dVECYYC",
        "colab_type": "text"
      },
      "source": [
        "2."
      ]
    },
    {
      "cell_type": "code",
      "metadata": {
        "id": "yz0TS3xKCZJw",
        "colab_type": "code",
        "outputId": "1251d7d1-521e-4bfc-d800-d50960c0857d",
        "colab": {
          "base_uri": "https://localhost:8080/",
          "height": 34
        }
      },
      "source": [
        "a=72%2\n",
        "if a==1:\n",
        "  print(\"true\")\n",
        "else:\n",
        "  print(\"false\")"
      ],
      "execution_count": 0,
      "outputs": [
        {
          "output_type": "stream",
          "text": [
            "false\n"
          ],
          "name": "stdout"
        }
      ]
    },
    {
      "cell_type": "markdown",
      "metadata": {
        "id": "y_KP9i-rC8kR",
        "colab_type": "text"
      },
      "source": [
        "3."
      ]
    },
    {
      "cell_type": "code",
      "metadata": {
        "id": "j1ecizgzC9ja",
        "colab_type": "code",
        "outputId": "f3314cb9-6aa5-4452-aa57-e5ce0f59e30c",
        "colab": {
          "base_uri": "https://localhost:8080/",
          "height": 34
        }
      },
      "source": [
        "255%2==1"
      ],
      "execution_count": 0,
      "outputs": [
        {
          "output_type": "execute_result",
          "data": {
            "text/plain": [
              "True"
            ]
          },
          "metadata": {
            "tags": []
          },
          "execution_count": 36
        }
      ]
    },
    {
      "cell_type": "code",
      "metadata": {
        "colab_type": "code",
        "outputId": "d082b63c-74ba-41db-92cd-05bae853b787",
        "id": "oUJA3KeXC35d",
        "colab": {
          "base_uri": "https://localhost:8080/",
          "height": 34
        }
      },
      "source": [
        "a=255%2\n",
        "if a==1:\n",
        "  print(\"true\")\n",
        "else:\n",
        "  print(\"false\")"
      ],
      "execution_count": 0,
      "outputs": [
        {
          "output_type": "stream",
          "text": [
            "true\n"
          ],
          "name": "stdout"
        }
      ]
    },
    {
      "cell_type": "markdown",
      "metadata": {
        "id": "LdwpV6g4DddZ",
        "colab_type": "text"
      },
      "source": [
        "2."
      ]
    },
    {
      "cell_type": "code",
      "metadata": {
        "id": "__ShEG3nDcdJ",
        "colab_type": "code",
        "outputId": "495cfed2-17f5-4e52-fad0-2de648a9f43d",
        "colab": {
          "base_uri": "https://localhost:8080/",
          "height": 34
        }
      },
      "source": [
        "a=63\n",
        "50<a<100"
      ],
      "execution_count": 0,
      "outputs": [
        {
          "output_type": "execute_result",
          "data": {
            "text/plain": [
              "True"
            ]
          },
          "metadata": {
            "tags": []
          },
          "execution_count": 39
        }
      ]
    },
    {
      "cell_type": "code",
      "metadata": {
        "id": "l6Gyg6YnDi7h",
        "colab_type": "code",
        "outputId": "226ab1c6-1087-455c-ac73-9c4625414062",
        "colab": {
          "base_uri": "https://localhost:8080/",
          "height": 34
        }
      },
      "source": [
        "a=63\n",
        "if 50<a<100:\n",
        "  print(\"true\")\n",
        "else:\n",
        "  print(\"false\")"
      ],
      "execution_count": 0,
      "outputs": [
        {
          "output_type": "stream",
          "text": [
            "true\n"
          ],
          "name": "stdout"
        }
      ]
    },
    {
      "cell_type": "markdown",
      "metadata": {
        "id": "OhbXJHyVDXre",
        "colab_type": "text"
      },
      "source": [
        "#練習３\n",
        "1."
      ]
    },
    {
      "cell_type": "code",
      "metadata": {
        "id": "AyyLHwgaDbGJ",
        "colab_type": "code",
        "outputId": "074f94b2-9721-4043-9509-5834c6c71c9c",
        "colab": {
          "base_uri": "https://localhost:8080/",
          "height": 34
        }
      },
      "source": [
        "x=6\n",
        "x>=1 and x<=7"
      ],
      "execution_count": 0,
      "outputs": [
        {
          "output_type": "execute_result",
          "data": {
            "text/plain": [
              "True"
            ]
          },
          "metadata": {
            "tags": []
          },
          "execution_count": 42
        }
      ]
    },
    {
      "cell_type": "code",
      "metadata": {
        "id": "6xB5OPzYED3A",
        "colab_type": "code",
        "outputId": "78f3e9d5-32a6-48c1-ea4c-3dfe8a646d60",
        "colab": {
          "base_uri": "https://localhost:8080/",
          "height": 34
        }
      },
      "source": [
        "x=6\n",
        "if x>=1:\n",
        "  if x<=7:\n",
        "    print(\"true\")\n",
        "  else: \n",
        "    print(\"false\")\n",
        "else:\n",
        "  print(\"false\")"
      ],
      "execution_count": 0,
      "outputs": [
        {
          "output_type": "stream",
          "text": [
            "true\n"
          ],
          "name": "stdout"
        }
      ]
    },
    {
      "cell_type": "markdown",
      "metadata": {
        "id": "7xHTbBV-EwVi",
        "colab_type": "text"
      },
      "source": [
        "2."
      ]
    },
    {
      "cell_type": "code",
      "metadata": {
        "id": "zvpYKyzmExXS",
        "colab_type": "code",
        "outputId": "c5bdaa1a-36ab-41c1-f22b-539c9afca6d9",
        "colab": {
          "base_uri": "https://localhost:8080/",
          "height": 34
        }
      },
      "source": [
        "x=6\n",
        "x>=1 or x<=5"
      ],
      "execution_count": 0,
      "outputs": [
        {
          "output_type": "execute_result",
          "data": {
            "text/plain": [
              "True"
            ]
          },
          "metadata": {
            "tags": []
          },
          "execution_count": 47
        }
      ]
    },
    {
      "cell_type": "markdown",
      "metadata": {
        "id": "uXB8G1iwE42C",
        "colab_type": "text"
      },
      "source": [
        "3."
      ]
    },
    {
      "cell_type": "markdown",
      "metadata": {
        "id": "A53djQ-eFcTy",
        "colab_type": "text"
      },
      "source": [
        "#練習4\n",
        "1."
      ]
    },
    {
      "cell_type": "code",
      "metadata": {
        "id": "uIJ4GLy4Fgwi",
        "colab_type": "code",
        "outputId": "f844d40e-8f3d-4029-86c4-a47897389313",
        "colab": {
          "base_uri": "https://localhost:8080/",
          "height": 34
        }
      },
      "source": [
        "a=[4,5,6]\n",
        "b=[4,5,6]\n",
        "a==b"
      ],
      "execution_count": 0,
      "outputs": [
        {
          "output_type": "execute_result",
          "data": {
            "text/plain": [
              "True"
            ]
          },
          "metadata": {
            "tags": []
          },
          "execution_count": 52
        }
      ]
    },
    {
      "cell_type": "code",
      "metadata": {
        "id": "KjCtIMNHFw7D",
        "colab_type": "code",
        "outputId": "26b870ec-6e1e-4c5b-d361-d434b33d89cb",
        "colab": {
          "base_uri": "https://localhost:8080/",
          "height": 34
        }
      },
      "source": [
        "a is b"
      ],
      "execution_count": 0,
      "outputs": [
        {
          "output_type": "execute_result",
          "data": {
            "text/plain": [
              "False"
            ]
          },
          "metadata": {
            "tags": []
          },
          "execution_count": 53
        }
      ]
    },
    {
      "cell_type": "code",
      "metadata": {
        "id": "LaQ3rqBgFzsq",
        "colab_type": "code",
        "outputId": "351e9fd8-b726-4f76-d073-322c45efc1ad",
        "colab": {
          "base_uri": "https://localhost:8080/",
          "height": 34
        }
      },
      "source": [
        "a is not b"
      ],
      "execution_count": 0,
      "outputs": [
        {
          "output_type": "execute_result",
          "data": {
            "text/plain": [
              "True"
            ]
          },
          "metadata": {
            "tags": []
          },
          "execution_count": 54
        }
      ]
    },
    {
      "cell_type": "code",
      "metadata": {
        "id": "1FDthob-F10K",
        "colab_type": "code",
        "outputId": "5446a10f-40c9-40ca-f707-1502bbb9f51c",
        "colab": {
          "base_uri": "https://localhost:8080/",
          "height": 34
        }
      },
      "source": [
        "4 in a"
      ],
      "execution_count": 0,
      "outputs": [
        {
          "output_type": "execute_result",
          "data": {
            "text/plain": [
              "True"
            ]
          },
          "metadata": {
            "tags": []
          },
          "execution_count": 55
        }
      ]
    },
    {
      "cell_type": "code",
      "metadata": {
        "id": "opnEAbfdGCfH",
        "colab_type": "code",
        "outputId": "b5e0935c-9752-4ee6-9b01-aebce72c3841",
        "colab": {
          "base_uri": "https://localhost:8080/",
          "height": 34
        }
      },
      "source": [
        "5 in a"
      ],
      "execution_count": 0,
      "outputs": [
        {
          "output_type": "execute_result",
          "data": {
            "text/plain": [
              "True"
            ]
          },
          "metadata": {
            "tags": []
          },
          "execution_count": 56
        }
      ]
    },
    {
      "cell_type": "markdown",
      "metadata": {
        "id": "oPMbm0PAGthD",
        "colab_type": "text"
      },
      "source": [
        "#練習６\n",
        "1."
      ]
    },
    {
      "cell_type": "code",
      "metadata": {
        "id": "HgDONDpVGyls",
        "colab_type": "code",
        "outputId": "67b3a03d-5aa6-4cec-9a7e-b758b3e995f6",
        "colab": {
          "base_uri": "https://localhost:8080/",
          "height": 34
        }
      },
      "source": [
        "x=1\n",
        "type(x)"
      ],
      "execution_count": 0,
      "outputs": [
        {
          "output_type": "execute_result",
          "data": {
            "text/plain": [
              "int"
            ]
          },
          "metadata": {
            "tags": []
          },
          "execution_count": 63
        }
      ]
    },
    {
      "cell_type": "code",
      "metadata": {
        "id": "Y46fPi1CHGeu",
        "colab_type": "code",
        "outputId": "fed6bfab-89df-4a8e-a21b-3bf813475056",
        "colab": {
          "base_uri": "https://localhost:8080/",
          "height": 34
        }
      },
      "source": [
        "x=1.5\n",
        "type(x)"
      ],
      "execution_count": 0,
      "outputs": [
        {
          "output_type": "execute_result",
          "data": {
            "text/plain": [
              "float"
            ]
          },
          "metadata": {
            "tags": []
          },
          "execution_count": 64
        }
      ]
    },
    {
      "cell_type": "markdown",
      "metadata": {
        "id": "7V0fvD3cHEhN",
        "colab_type": "text"
      },
      "source": [
        "2."
      ]
    },
    {
      "cell_type": "code",
      "metadata": {
        "id": "cpTKZT45HKK-",
        "colab_type": "code",
        "outputId": "00295962-22dc-47e8-c104-fb70d15d0bb1",
        "colab": {
          "base_uri": "https://localhost:8080/",
          "height": 34
        }
      },
      "source": [
        "7/3"
      ],
      "execution_count": 0,
      "outputs": [
        {
          "output_type": "execute_result",
          "data": {
            "text/plain": [
              "2.3333333333333335"
            ]
          },
          "metadata": {
            "tags": []
          },
          "execution_count": 65
        }
      ]
    },
    {
      "cell_type": "markdown",
      "metadata": {
        "id": "g-oHGGv_HORX",
        "colab_type": "text"
      },
      "source": [
        "3."
      ]
    },
    {
      "cell_type": "code",
      "metadata": {
        "id": "bCz6Cxu1HRAR",
        "colab_type": "code",
        "outputId": "77ec9050-6d45-4457-e842-55a7d782ae75",
        "colab": {
          "base_uri": "https://localhost:8080/",
          "height": 34
        }
      },
      "source": [
        "7//3"
      ],
      "execution_count": 0,
      "outputs": [
        {
          "output_type": "execute_result",
          "data": {
            "text/plain": [
              "2"
            ]
          },
          "metadata": {
            "tags": []
          },
          "execution_count": 66
        }
      ]
    },
    {
      "cell_type": "markdown",
      "metadata": {
        "id": "rxnnoAnlHnJT",
        "colab_type": "text"
      },
      "source": [
        "#練習７\n",
        "1."
      ]
    },
    {
      "cell_type": "code",
      "metadata": {
        "id": "zP348NIAHrj7",
        "colab_type": "code",
        "outputId": "2b771114-fa84-4bfc-dab4-4c832407977c",
        "colab": {
          "base_uri": "https://localhost:8080/",
          "height": 34
        }
      },
      "source": [
        "a=0.000007\n",
        "b=7*10**(-6)\n",
        "a==b"
      ],
      "execution_count": 0,
      "outputs": [
        {
          "output_type": "execute_result",
          "data": {
            "text/plain": [
              "True"
            ]
          },
          "metadata": {
            "tags": []
          },
          "execution_count": 67
        }
      ]
    },
    {
      "cell_type": "markdown",
      "metadata": {
        "id": "K_9fT_QxH1Fl",
        "colab_type": "text"
      },
      "source": [
        "2."
      ]
    },
    {
      "cell_type": "code",
      "metadata": {
        "id": "UbwgPCNyH1xB",
        "colab_type": "code",
        "outputId": "d2ddb833-afa2-4029-af58-0808c7b9190b",
        "colab": {
          "base_uri": "https://localhost:8080/",
          "height": 34
        }
      },
      "source": [
        "a=25\n",
        "float(a)"
      ],
      "execution_count": 0,
      "outputs": [
        {
          "output_type": "execute_result",
          "data": {
            "text/plain": [
              "25.0"
            ]
          },
          "metadata": {
            "tags": []
          },
          "execution_count": 73
        }
      ]
    },
    {
      "cell_type": "markdown",
      "metadata": {
        "id": "6RfvQivZJgaL",
        "colab_type": "text"
      },
      "source": [
        "#練習８\n",
        "1."
      ]
    },
    {
      "cell_type": "code",
      "metadata": {
        "id": "V-vQX6f6Jjgr",
        "colab_type": "code",
        "outputId": "378440e9-b4c9-4781-b323-219808375c54",
        "colab": {
          "base_uri": "https://localhost:8080/",
          "height": 34
        }
      },
      "source": [
        "c=complex(4,5)\n",
        "print(c)"
      ],
      "execution_count": 0,
      "outputs": [
        {
          "output_type": "stream",
          "text": [
            "(4+5j)\n"
          ],
          "name": "stdout"
        }
      ]
    },
    {
      "cell_type": "code",
      "metadata": {
        "id": "_1EpipEAJ0dW",
        "colab_type": "code",
        "outputId": "65cea91f-051d-4760-bba2-573d28dd9652",
        "colab": {
          "base_uri": "https://localhost:8080/",
          "height": 34
        }
      },
      "source": [
        "c.real"
      ],
      "execution_count": 0,
      "outputs": [
        {
          "output_type": "execute_result",
          "data": {
            "text/plain": [
              "4.0"
            ]
          },
          "metadata": {
            "tags": []
          },
          "execution_count": 82
        }
      ]
    },
    {
      "cell_type": "code",
      "metadata": {
        "id": "vzWGoAl8J11k",
        "colab_type": "code",
        "outputId": "ee051cd2-5c56-4716-84c8-2a11ce658f89",
        "colab": {
          "base_uri": "https://localhost:8080/",
          "height": 34
        }
      },
      "source": [
        "c.imag"
      ],
      "execution_count": 0,
      "outputs": [
        {
          "output_type": "execute_result",
          "data": {
            "text/plain": [
              "5.0"
            ]
          },
          "metadata": {
            "tags": []
          },
          "execution_count": 83
        }
      ]
    },
    {
      "cell_type": "code",
      "metadata": {
        "id": "uOA4sVs-J4l0",
        "colab_type": "code",
        "outputId": "5932b584-ea9a-41fb-cca5-c814dd5108c0",
        "colab": {
          "base_uri": "https://localhost:8080/",
          "height": 34
        }
      },
      "source": [
        "c.conjugate()"
      ],
      "execution_count": 0,
      "outputs": [
        {
          "output_type": "execute_result",
          "data": {
            "text/plain": [
              "(4-5j)"
            ]
          },
          "metadata": {
            "tags": []
          },
          "execution_count": 84
        }
      ]
    },
    {
      "cell_type": "code",
      "metadata": {
        "id": "_Z56rhRwKHvd",
        "colab_type": "code",
        "outputId": "7c902cd3-4f42-4d03-9ced-0acea55b5b1d",
        "colab": {
          "base_uri": "https://localhost:8080/",
          "height": 34
        }
      },
      "source": [
        "abs(c)"
      ],
      "execution_count": 0,
      "outputs": [
        {
          "output_type": "execute_result",
          "data": {
            "text/plain": [
              "6.4031242374328485"
            ]
          },
          "metadata": {
            "tags": []
          },
          "execution_count": 85
        }
      ]
    }
  ]
}