{
  "nbformat": 4,
  "nbformat_minor": 0,
  "metadata": {
    "colab": {
      "name": "Yeh1114.ipynb",
      "provenance": [],
      "collapsed_sections": [],
      "include_colab_link": true
    },
    "kernelspec": {
      "name": "python3",
      "display_name": "Python 3"
    }
  },
  "cells": [
    {
      "cell_type": "markdown",
      "metadata": {
        "id": "view-in-github",
        "colab_type": "text"
      },
      "source": [
        "<a href=\"https://colab.research.google.com/github/YE-GANWEI/basic_algorithms_a/blob/master/Yeh1114.ipynb\" target=\"_parent\"><img src=\"https://colab.research.google.com/assets/colab-badge.svg\" alt=\"Open In Colab\"/></a>"
      ]
    },
    {
      "cell_type": "markdown",
      "metadata": {
        "id": "7Y8iRUCc4GNV",
        "colab_type": "text"
      },
      "source": [
        "#1114\n",
        "#練習1\n",
        "1."
      ]
    },
    {
      "cell_type": "code",
      "metadata": {
        "id": "0SmrfAQc4NUG",
        "colab_type": "code",
        "outputId": "050d2eaa-90f0-4d90-f5c1-7f8b143cd668",
        "colab": {
          "base_uri": "https://localhost:8080/",
          "height": 34
        }
      },
      "source": [
        "text=\"hello\"\n",
        "print(text)"
      ],
      "execution_count": 0,
      "outputs": [
        {
          "output_type": "stream",
          "text": [
            "hello\n"
          ],
          "name": "stdout"
        }
      ]
    },
    {
      "cell_type": "markdown",
      "metadata": {
        "id": "gMMlGbZr4bLx",
        "colab_type": "text"
      },
      "source": [
        "2."
      ]
    },
    {
      "cell_type": "code",
      "metadata": {
        "id": "g-EwhweW4b55",
        "colab_type": "code",
        "outputId": "0a3f6010-150b-434b-8fd5-4c967ab9d7c4",
        "colab": {
          "base_uri": "https://localhost:8080/",
          "height": 34
        }
      },
      "source": [
        "t=len(text)\n",
        "print (t)"
      ],
      "execution_count": 0,
      "outputs": [
        {
          "output_type": "stream",
          "text": [
            "5\n"
          ],
          "name": "stdout"
        }
      ]
    },
    {
      "cell_type": "markdown",
      "metadata": {
        "id": "qA5A7M0Z4ift",
        "colab_type": "text"
      },
      "source": [
        "3."
      ]
    },
    {
      "cell_type": "code",
      "metadata": {
        "id": "uCTbfPul4jOO",
        "colab_type": "code",
        "outputId": "417b148d-1314-4aab-eb98-dba3ebd34a56",
        "colab": {
          "base_uri": "https://localhost:8080/",
          "height": 34
        }
      },
      "source": [
        "print(text.upper())"
      ],
      "execution_count": 0,
      "outputs": [
        {
          "output_type": "stream",
          "text": [
            "HELLO\n"
          ],
          "name": "stdout"
        }
      ]
    },
    {
      "cell_type": "markdown",
      "metadata": {
        "id": "_9ryxDXD47qT",
        "colab_type": "text"
      },
      "source": [
        "4."
      ]
    },
    {
      "cell_type": "code",
      "metadata": {
        "id": "oVWCtSMm48Yq",
        "colab_type": "code",
        "outputId": "b22fb654-72ac-42c1-a3e2-f9c68bfb6665",
        "colab": {
          "base_uri": "https://localhost:8080/",
          "height": 34
        }
      },
      "source": [
        "print(text.capitalize())   \n",
        "        #capitalizeは最初の文字->大文字   \"i love DC\"->\"I love DC\""
      ],
      "execution_count": 0,
      "outputs": [
        {
          "output_type": "stream",
          "text": [
            "Hello\n"
          ],
          "name": "stdout"
        }
      ]
    },
    {
      "cell_type": "markdown",
      "metadata": {
        "id": "RxRdW5Ix5BJM",
        "colab_type": "text"
      },
      "source": [
        "5."
      ]
    },
    {
      "cell_type": "code",
      "metadata": {
        "id": "ky7Z7Dbf5B9U",
        "colab_type": "code",
        "outputId": "ddb868b7-c4bb-47c1-e707-e8cba78adcd9",
        "colab": {
          "base_uri": "https://localhost:8080/",
          "height": 51
        }
      },
      "source": [
        "text02=\"Jason\"\n",
        "text102=text+\" \"+text02\n",
        "print(text+\" \"+text02)\n",
        "print(text102.title())"
      ],
      "execution_count": 0,
      "outputs": [
        {
          "output_type": "stream",
          "text": [
            "hello Jason\n",
            "Hello Jason\n"
          ],
          "name": "stdout"
        }
      ]
    },
    {
      "cell_type": "markdown",
      "metadata": {
        "id": "ZySFaqRB5jf-",
        "colab_type": "text"
      },
      "source": [
        "6."
      ]
    },
    {
      "cell_type": "code",
      "metadata": {
        "id": "PAFOrevI5lE2",
        "colab_type": "code",
        "outputId": "fabbbe71-a5ea-4685-d599-7cbb239aa4bf",
        "colab": {
          "base_uri": "https://localhost:8080/",
          "height": 34
        }
      },
      "source": [
        "(text102+\" \")*5"
      ],
      "execution_count": 0,
      "outputs": [
        {
          "output_type": "execute_result",
          "data": {
            "text/plain": [
              "'hello Jason hello Jason hello Jason hello Jason hello Jason '"
            ]
          },
          "metadata": {
            "tags": []
          },
          "execution_count": 53
        }
      ]
    },
    {
      "cell_type": "markdown",
      "metadata": {
        "id": "pPVqva8m51du",
        "colab_type": "text"
      },
      "source": [
        "7."
      ]
    },
    {
      "cell_type": "code",
      "metadata": {
        "id": "bAsKYlNR52Qu",
        "colab_type": "code",
        "outputId": "0aec3744-d3d6-4fe9-ad5d-bb2004e3bf61",
        "colab": {
          "base_uri": "https://localhost:8080/",
          "height": 51
        }
      },
      "source": [
        "print(text[0])\n",
        "print(text[1])"
      ],
      "execution_count": 0,
      "outputs": [
        {
          "output_type": "stream",
          "text": [
            "h\n",
            "e\n"
          ],
          "name": "stdout"
        }
      ]
    },
    {
      "cell_type": "markdown",
      "metadata": {
        "id": "1vUgowS-52oX",
        "colab_type": "text"
      },
      "source": [
        "8."
      ]
    },
    {
      "cell_type": "code",
      "metadata": {
        "id": "Q2zdrlp654AV",
        "colab_type": "code",
        "outputId": "275357c3-fa06-4763-b9ac-d3917ae72b07",
        "colab": {
          "base_uri": "https://localhost:8080/",
          "height": 51
        }
      },
      "source": [
        "text03='Jason said \"Hi Ashia!\".'\n",
        "print(text03)\n",
        "text04=\"おはようございます。\"\n",
        "print(text04)"
      ],
      "execution_count": 0,
      "outputs": [
        {
          "output_type": "stream",
          "text": [
            "Jason said \"Hi Ashia!\".\n",
            "おはようございます。\n"
          ],
          "name": "stdout"
        }
      ]
    },
    {
      "cell_type": "markdown",
      "metadata": {
        "id": "9W2RV90mC6zK",
        "colab_type": "text"
      },
      "source": [
        "#NoneType\n",
        "1."
      ]
    },
    {
      "cell_type": "code",
      "metadata": {
        "id": "xTbZ16NUDCfn",
        "colab_type": "code",
        "outputId": "1423f7c9-fbe1-4b34-c6c3-32539e36e056",
        "colab": {
          "base_uri": "https://localhost:8080/",
          "height": 34
        }
      },
      "source": [
        "type(None)"
      ],
      "execution_count": 0,
      "outputs": [
        {
          "output_type": "execute_result",
          "data": {
            "text/plain": [
              "NoneType"
            ]
          },
          "metadata": {
            "tags": []
          },
          "execution_count": 57
        }
      ]
    },
    {
      "cell_type": "markdown",
      "metadata": {
        "id": "Eo0DZBlzDHph",
        "colab_type": "text"
      },
      "source": [
        "2."
      ]
    },
    {
      "cell_type": "code",
      "metadata": {
        "id": "sxIOqIO1DJER",
        "colab_type": "code",
        "outputId": "c791aacc-2be1-46bd-a95e-96454a20cf36",
        "colab": {
          "base_uri": "https://localhost:8080/",
          "height": 51
        }
      },
      "source": [
        "value=print('abc')\n",
        "print(value)"
      ],
      "execution_count": 0,
      "outputs": [
        {
          "output_type": "stream",
          "text": [
            "abc\n",
            "None\n"
          ],
          "name": "stdout"
        }
      ]
    },
    {
      "cell_type": "markdown",
      "metadata": {
        "id": "44jzBAoVDYGs",
        "colab_type": "text"
      },
      "source": [
        "#balabala\n",
        "1."
      ]
    },
    {
      "cell_type": "code",
      "metadata": {
        "id": "TsP6mrfHDcDy",
        "colab_type": "code",
        "outputId": "64bc3616-095e-445f-fccb-9b96d6a793d9",
        "colab": {
          "base_uri": "https://localhost:8080/",
          "height": 34
        }
      },
      "source": [
        "x=(4<5)\n",
        "print(x)"
      ],
      "execution_count": 0,
      "outputs": [
        {
          "output_type": "stream",
          "text": [
            "True\n"
          ],
          "name": "stdout"
        }
      ]
    },
    {
      "cell_type": "code",
      "metadata": {
        "id": "GKiM6pxqDkO0",
        "colab_type": "code",
        "outputId": "5fcad743-b279-4d67-ed47-de84630caf85",
        "colab": {
          "base_uri": "https://localhost:8080/",
          "height": 34
        }
      },
      "source": [
        "type(x)"
      ],
      "execution_count": 0,
      "outputs": [
        {
          "output_type": "execute_result",
          "data": {
            "text/plain": [
              "bool"
            ]
          },
          "metadata": {
            "tags": []
          },
          "execution_count": 61
        }
      ]
    },
    {
      "cell_type": "markdown",
      "metadata": {
        "id": "8BS_uAU76TuO",
        "colab_type": "text"
      },
      "source": [
        "#練習2\n",
        "1."
      ]
    },
    {
      "cell_type": "code",
      "metadata": {
        "id": "S0v_R11d6YLG",
        "colab_type": "code",
        "outputId": "f3597af4-e26d-4c81-c3aa-f8d893f65ac4",
        "colab": {
          "base_uri": "https://localhost:8080/",
          "height": 34
        }
      },
      "source": [
        "L=[4,6,8,9]\n",
        "print(L)"
      ],
      "execution_count": 0,
      "outputs": [
        {
          "output_type": "stream",
          "text": [
            "[4, 6, 8, 9]\n"
          ],
          "name": "stdout"
        }
      ]
    },
    {
      "cell_type": "markdown",
      "metadata": {
        "id": "3erQivV-6kTW",
        "colab_type": "text"
      },
      "source": [
        "2."
      ]
    },
    {
      "cell_type": "code",
      "metadata": {
        "id": "ponU4cpp6yJW",
        "colab_type": "code",
        "outputId": "538da430-7e01-4a71-8089-3ea8cad4e461",
        "colab": {
          "base_uri": "https://localhost:8080/",
          "height": 34
        }
      },
      "source": [
        "print(len(L))"
      ],
      "execution_count": 0,
      "outputs": [
        {
          "output_type": "stream",
          "text": [
            "4\n"
          ],
          "name": "stdout"
        }
      ]
    },
    {
      "cell_type": "markdown",
      "metadata": {
        "id": "NdEgMVRo665-",
        "colab_type": "text"
      },
      "source": [
        "3."
      ]
    },
    {
      "cell_type": "code",
      "metadata": {
        "id": "mWOm-DWN676x",
        "colab_type": "code",
        "outputId": "73732c31-f21d-4051-e7a1-d531be80d7b5",
        "colab": {
          "base_uri": "https://localhost:8080/",
          "height": 34
        }
      },
      "source": [
        "L.append(11)\n",
        "print(L)"
      ],
      "execution_count": 0,
      "outputs": [
        {
          "output_type": "stream",
          "text": [
            "[4, 6, 8, 9, 11]\n"
          ],
          "name": "stdout"
        }
      ]
    },
    {
      "cell_type": "markdown",
      "metadata": {
        "id": "prbWtd647KCe",
        "colab_type": "text"
      },
      "source": [
        "4."
      ]
    },
    {
      "cell_type": "code",
      "metadata": {
        "id": "xM6j-Ka97LD3",
        "colab_type": "code",
        "outputId": "9a874d2c-792c-4c9d-b14f-9bb25d823031",
        "colab": {
          "base_uri": "https://localhost:8080/",
          "height": 34
        }
      },
      "source": [
        "L+=[13,17,20]\n",
        "print(L)"
      ],
      "execution_count": 0,
      "outputs": [
        {
          "output_type": "stream",
          "text": [
            "[4, 6, 8, 9, 11, 13, 17, 20]\n"
          ],
          "name": "stdout"
        }
      ]
    },
    {
      "cell_type": "markdown",
      "metadata": {
        "id": "VImMEnet7X1h",
        "colab_type": "text"
      },
      "source": [
        "5."
      ]
    },
    {
      "cell_type": "code",
      "metadata": {
        "id": "tzhGS5kg7ZTo",
        "colab_type": "code",
        "outputId": "b8cdd916-1cd6-4c2f-9f8c-149be6dac491",
        "colab": {
          "base_uri": "https://localhost:8080/",
          "height": 34
        }
      },
      "source": [
        "L.sort()\n",
        "print(L)"
      ],
      "execution_count": 0,
      "outputs": [
        {
          "output_type": "stream",
          "text": [
            "[4, 6, 8, 9, 11, 13, 17, 20]\n"
          ],
          "name": "stdout"
        }
      ]
    },
    {
      "cell_type": "markdown",
      "metadata": {
        "id": "3FbvpXax7xlE",
        "colab_type": "text"
      },
      "source": [
        "6."
      ]
    },
    {
      "cell_type": "code",
      "metadata": {
        "id": "ytYA8Jym8AQd",
        "colab_type": "code",
        "outputId": "a525761d-6d1a-4645-c6a2-a06b1021cc6f",
        "colab": {
          "base_uri": "https://localhost:8080/",
          "height": 34
        }
      },
      "source": [
        "L=[4,6,\"two\",7,8,9]\n",
        "L"
      ],
      "execution_count": 0,
      "outputs": [
        {
          "output_type": "execute_result",
          "data": {
            "text/plain": [
              "[4, 6, 'two', 7, 8, 9]"
            ]
          },
          "metadata": {
            "tags": []
          },
          "execution_count": 74
        }
      ]
    },
    {
      "cell_type": "markdown",
      "metadata": {
        "id": "6El3cawR8ArK",
        "colab_type": "text"
      },
      "source": [
        "#練習3\n",
        "1."
      ]
    },
    {
      "cell_type": "code",
      "metadata": {
        "id": "w6_t-wBn8F31",
        "colab_type": "code",
        "outputId": "1624a3ca-b276-4b8f-ea20-65438eddb3ff",
        "colab": {
          "base_uri": "https://localhost:8080/",
          "height": 51
        }
      },
      "source": [
        "L=[4,6,8,9,11]\n",
        "print(L)\n",
        "print(L[0])"
      ],
      "execution_count": 0,
      "outputs": [
        {
          "output_type": "stream",
          "text": [
            "[4, 6, 8, 9, 11]\n",
            "4\n"
          ],
          "name": "stdout"
        }
      ]
    },
    {
      "cell_type": "markdown",
      "metadata": {
        "id": "HskJmtV58U7n",
        "colab_type": "text"
      },
      "source": [
        "2."
      ]
    },
    {
      "cell_type": "code",
      "metadata": {
        "id": "CsJ9fVXE8V4I",
        "colab_type": "code",
        "outputId": "875df9c2-dd72-458d-d24d-8c3edfd48244",
        "colab": {
          "base_uri": "https://localhost:8080/",
          "height": 34
        }
      },
      "source": [
        "print(L[3])"
      ],
      "execution_count": 0,
      "outputs": [
        {
          "output_type": "stream",
          "text": [
            "9\n"
          ],
          "name": "stdout"
        }
      ]
    },
    {
      "cell_type": "markdown",
      "metadata": {
        "id": "nXBzK--18Yqm",
        "colab_type": "text"
      },
      "source": [
        "3."
      ]
    },
    {
      "cell_type": "code",
      "metadata": {
        "id": "hZpvRlb58Zem",
        "colab_type": "code",
        "outputId": "288a4598-82d1-4c7e-d60c-aeab919b926d",
        "colab": {
          "base_uri": "https://localhost:8080/",
          "height": 34
        }
      },
      "source": [
        "print(L[-1])"
      ],
      "execution_count": 0,
      "outputs": [
        {
          "output_type": "stream",
          "text": [
            "11\n"
          ],
          "name": "stdout"
        }
      ]
    },
    {
      "cell_type": "markdown",
      "metadata": {
        "id": "xa3V29NS8dfW",
        "colab_type": "text"
      },
      "source": [
        "4."
      ]
    },
    {
      "cell_type": "code",
      "metadata": {
        "id": "-0UjvhHT8eSW",
        "colab_type": "code",
        "outputId": "46ae1b64-74e0-4689-96cd-02bb70d58aca",
        "colab": {
          "base_uri": "https://localhost:8080/",
          "height": 34
        }
      },
      "source": [
        "print(L[:3])"
      ],
      "execution_count": 0,
      "outputs": [
        {
          "output_type": "stream",
          "text": [
            "[4, 6, 8]\n"
          ],
          "name": "stdout"
        }
      ]
    },
    {
      "cell_type": "markdown",
      "metadata": {
        "id": "MyoVpXZn8k4X",
        "colab_type": "text"
      },
      "source": [
        "5."
      ]
    },
    {
      "cell_type": "code",
      "metadata": {
        "id": "Di6Qbnn48lqO",
        "colab_type": "code",
        "outputId": "4d19739b-e15e-490c-be75-6b923333cd19",
        "colab": {
          "base_uri": "https://localhost:8080/",
          "height": 34
        }
      },
      "source": [
        "print(L[-2:])"
      ],
      "execution_count": 0,
      "outputs": [
        {
          "output_type": "stream",
          "text": [
            "[9, 11]\n"
          ],
          "name": "stdout"
        }
      ]
    },
    {
      "cell_type": "markdown",
      "metadata": {
        "id": "lRx7LQYI8qSu",
        "colab_type": "text"
      },
      "source": [
        "6."
      ]
    },
    {
      "cell_type": "code",
      "metadata": {
        "id": "G-MCFO3l8rEO",
        "colab_type": "code",
        "outputId": "ff9b87f3-57ac-496b-c4b0-bee8ae7f3cee",
        "colab": {
          "base_uri": "https://localhost:8080/",
          "height": 34
        }
      },
      "source": [
        "print(L[::2])"
      ],
      "execution_count": 0,
      "outputs": [
        {
          "output_type": "stream",
          "text": [
            "[4, 8, 11]\n"
          ],
          "name": "stdout"
        }
      ]
    },
    {
      "cell_type": "markdown",
      "metadata": {
        "id": "Psp39cGx85oB",
        "colab_type": "text"
      },
      "source": [
        "7."
      ]
    },
    {
      "cell_type": "code",
      "metadata": {
        "id": "L3csCha_86Y-",
        "colab_type": "code",
        "outputId": "46b2e4dc-809f-4628-9821-628c358099b3",
        "colab": {
          "base_uri": "https://localhost:8080/",
          "height": 34
        }
      },
      "source": [
        "print(L[::-2])"
      ],
      "execution_count": 0,
      "outputs": [
        {
          "output_type": "stream",
          "text": [
            "[11, 8, 4]\n"
          ],
          "name": "stdout"
        }
      ]
    },
    {
      "cell_type": "markdown",
      "metadata": {
        "id": "6pRZEvlA9S6C",
        "colab_type": "text"
      },
      "source": [
        "8."
      ]
    },
    {
      "cell_type": "code",
      "metadata": {
        "id": "rFaYYLfl9T6x",
        "colab_type": "code",
        "outputId": "db8e9941-ffa9-4213-9dfa-934031e55b2c",
        "colab": {
          "base_uri": "https://localhost:8080/",
          "height": 34
        }
      },
      "source": [
        "L.insert(0,50)\n",
        "print(L)"
      ],
      "execution_count": 0,
      "outputs": [
        {
          "output_type": "stream",
          "text": [
            "[50, 4, 6, 8, 9, 11]\n"
          ],
          "name": "stdout"
        }
      ]
    },
    {
      "cell_type": "markdown",
      "metadata": {
        "id": "gw4_lxoT9cSU",
        "colab_type": "text"
      },
      "source": [
        "9."
      ]
    },
    {
      "cell_type": "code",
      "metadata": {
        "id": "N8ul8UTH9dX_",
        "colab_type": "code",
        "outputId": "2630321b-be4b-4290-c9ad-5a6dfcf865ee",
        "colab": {
          "base_uri": "https://localhost:8080/",
          "height": 34
        }
      },
      "source": [
        "L.sort()\n",
        "print(L)"
      ],
      "execution_count": 0,
      "outputs": [
        {
          "output_type": "stream",
          "text": [
            "[4, 6, 8, 9, 11, 50]\n"
          ],
          "name": "stdout"
        }
      ]
    },
    {
      "cell_type": "markdown",
      "metadata": {
        "id": "AKwWQRAQ9lI-",
        "colab_type": "text"
      },
      "source": [
        "#練習4\n",
        "1."
      ]
    },
    {
      "cell_type": "code",
      "metadata": {
        "id": "Jl7NwXwh9oPn",
        "colab_type": "code",
        "outputId": "e9a5b241-b68a-488a-e6dd-0500e5d00192",
        "colab": {
          "base_uri": "https://localhost:8080/",
          "height": 34
        }
      },
      "source": [
        "T=(4,9,10)\n",
        "print(T)"
      ],
      "execution_count": 0,
      "outputs": [
        {
          "output_type": "stream",
          "text": [
            "(4, 9, 10)\n"
          ],
          "name": "stdout"
        }
      ]
    },
    {
      "cell_type": "markdown",
      "metadata": {
        "id": "sIe0xqjp9unm",
        "colab_type": "text"
      },
      "source": [
        "2."
      ]
    },
    {
      "cell_type": "code",
      "metadata": {
        "id": "VjBIQ0p79vR7",
        "colab_type": "code",
        "outputId": "89617e03-a10b-4075-bbf5-f3409161bd57",
        "colab": {
          "base_uri": "https://localhost:8080/",
          "height": 34
        }
      },
      "source": [
        "t=len(T)\n",
        "print(t)"
      ],
      "execution_count": 0,
      "outputs": [
        {
          "output_type": "stream",
          "text": [
            "3\n"
          ],
          "name": "stdout"
        }
      ]
    },
    {
      "cell_type": "markdown",
      "metadata": {
        "id": "2N_t6sRw90yg",
        "colab_type": "text"
      },
      "source": [
        "3."
      ]
    },
    {
      "cell_type": "code",
      "metadata": {
        "id": "KiMeLz0W91if",
        "colab_type": "code",
        "outputId": "c65135f4-1ed5-4476-b01d-22af0c68e83d",
        "colab": {
          "base_uri": "https://localhost:8080/",
          "height": 34
        }
      },
      "source": [
        "print(T[0])"
      ],
      "execution_count": 0,
      "outputs": [
        {
          "output_type": "stream",
          "text": [
            "4\n"
          ],
          "name": "stdout"
        }
      ]
    },
    {
      "cell_type": "markdown",
      "metadata": {
        "id": "PtrIEabB98yH",
        "colab_type": "text"
      },
      "source": [
        "4."
      ]
    },
    {
      "cell_type": "code",
      "metadata": {
        "id": "wgmOCUQ699_f",
        "colab_type": "code",
        "outputId": "aec3a31f-dcab-4828-dece-8bac929d62b5",
        "colab": {
          "base_uri": "https://localhost:8080/",
          "height": 168
        }
      },
      "source": [
        "T.insert(1,5)"
      ],
      "execution_count": 0,
      "outputs": [
        {
          "output_type": "error",
          "ename": "AttributeError",
          "evalue": "ignored",
          "traceback": [
            "\u001b[0;31m---------------------------------------------------------------------------\u001b[0m",
            "\u001b[0;31mAttributeError\u001b[0m                            Traceback (most recent call last)",
            "\u001b[0;32m<ipython-input-46-b6b4fc97feb1>\u001b[0m in \u001b[0;36m<module>\u001b[0;34m()\u001b[0m\n\u001b[0;32m----> 1\u001b[0;31m \u001b[0mT\u001b[0m\u001b[0;34m.\u001b[0m\u001b[0minsert\u001b[0m\u001b[0;34m(\u001b[0m\u001b[0;36m1\u001b[0m\u001b[0;34m,\u001b[0m\u001b[0;36m5\u001b[0m\u001b[0;34m)\u001b[0m\u001b[0;34m\u001b[0m\u001b[0;34m\u001b[0m\u001b[0m\n\u001b[0m",
            "\u001b[0;31mAttributeError\u001b[0m: 'tuple' object has no attribute 'insert'"
          ]
        }
      ]
    },
    {
      "cell_type": "markdown",
      "metadata": {
        "id": "dYkVN4Rq-JfR",
        "colab_type": "text"
      },
      "source": [
        "5."
      ]
    },
    {
      "cell_type": "code",
      "metadata": {
        "id": "d7UTOEbU-KcP",
        "colab_type": "code",
        "outputId": "edde4ecd-de8b-425d-e921-9924a451a517",
        "colab": {
          "base_uri": "https://localhost:8080/",
          "height": 168
        }
      },
      "source": [
        "T.append((12))"
      ],
      "execution_count": 0,
      "outputs": [
        {
          "output_type": "error",
          "ename": "AttributeError",
          "evalue": "ignored",
          "traceback": [
            "\u001b[0;31m---------------------------------------------------------------------------\u001b[0m",
            "\u001b[0;31mAttributeError\u001b[0m                            Traceback (most recent call last)",
            "\u001b[0;32m<ipython-input-89-de54aa74c49e>\u001b[0m in \u001b[0;36m<module>\u001b[0;34m()\u001b[0m\n\u001b[0;32m----> 1\u001b[0;31m \u001b[0mT\u001b[0m\u001b[0;34m.\u001b[0m\u001b[0mappend\u001b[0m\u001b[0;34m(\u001b[0m\u001b[0;34m(\u001b[0m\u001b[0;36m12\u001b[0m\u001b[0;34m)\u001b[0m\u001b[0;34m)\u001b[0m\u001b[0;34m\u001b[0m\u001b[0;34m\u001b[0m\u001b[0m\n\u001b[0m",
            "\u001b[0;31mAttributeError\u001b[0m: 'tuple' object has no attribute 'append'"
          ]
        }
      ]
    }
  ]
}