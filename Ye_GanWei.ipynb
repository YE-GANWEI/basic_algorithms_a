{
  "nbformat": 4,
  "nbformat_minor": 0,
  "metadata": {
    "colab": {
      "name": "Ye GanWei.ipynb",
      "provenance": [],
      "collapsed_sections": [],
      "include_colab_link": true
    },
    "kernelspec": {
      "name": "python3",
      "display_name": "Python 3"
    }
  },
  "cells": [
    {
      "cell_type": "markdown",
      "metadata": {
        "id": "view-in-github",
        "colab_type": "text"
      },
      "source": [
        "<a href=\"https://colab.research.google.com/github/YE-GANWEI/basic_algorithms_a/blob/master/Ye_GanWei.ipynb\" target=\"_parent\"><img src=\"https://colab.research.google.com/assets/colab-badge.svg\" alt=\"Open In Colab\"/></a>"
      ]
    },
    {
      "cell_type": "markdown",
      "metadata": {
        "id": "MYLsxAjTuPrp",
        "colab_type": "text"
      },
      "source": [
        "# 初めてのノートブック\n",
        "\n",
        "\n",
        "**書きましょう**\n"
      ]
    },
    {
      "cell_type": "code",
      "metadata": {
        "id": "dVtqgGJFvT0g",
        "colab_type": "code",
        "outputId": "23ab8918-e601-4ad8-cb96-1cff3c6914d5",
        "colab": {
          "base_uri": "https://localhost:8080/",
          "height": 34
        }
      },
      "source": [
        "#計算する\n",
        "\n",
        "2*(3+4)"
      ],
      "execution_count": 0,
      "outputs": [
        {
          "output_type": "execute_result",
          "data": {
            "text/plain": [
              "14"
            ]
          },
          "metadata": {
            "tags": []
          },
          "execution_count": 1
        }
      ]
    },
    {
      "cell_type": "markdown",
      "metadata": {
        "id": "NU-RerjtwUtp",
        "colab_type": "text"
      },
      "source": [
        "*出力してみましょう*\n",
        "\n",
        "\n",
        "\n",
        "```\n",
        "# First value:1\n",
        "```\n",
        "\n",
        "\n"
      ]
    },
    {
      "cell_type": "code",
      "metadata": {
        "id": "LRv4Dw8SyEVB",
        "colab_type": "code",
        "outputId": "3ccfcbb0-877c-49b5-fa37-aac9314099fd",
        "colab": {
          "base_uri": "https://localhost:8080/",
          "height": 34
        }
      },
      "source": [
        "'''\n",
        "値を出力する\n",
        "'''\n",
        "\n",
        "print ('First value:', 1)"
      ],
      "execution_count": 0,
      "outputs": [
        {
          "output_type": "stream",
          "text": [
            "First value: 1\n"
          ],
          "name": "stdout"
        }
      ]
    },
    {
      "cell_type": "markdown",
      "metadata": {
        "id": "oT33ztrE0ZjR",
        "colab_type": "text"
      },
      "source": [
        "**'sort'の関数を呼び出す**\n",
        "\n",
        "1.  以下のリストを作る\n",
        "\n",
        "\n",
        "\n",
        "```\n",
        "Numbers = [4,3,2,1]\n",
        "```\n",
        "\n",
        "2. 'sort()'の関数を使って、リストをソートする。\n",
        "\n",
        "3. 'print'を使って、出力する。\n"
      ]
    },
    {
      "cell_type": "code",
      "metadata": {
        "id": "w-v6CVJJ3DvZ",
        "colab_type": "code",
        "outputId": "5126fabe-a590-4221-ea88-0125857aa43c",
        "colab": {
          "base_uri": "https://localhost:8080/",
          "height": 34
        }
      },
      "source": [
        "Numbers = [4,3,2,1]\n",
        "Numbers.sort()\n",
        "print(Numbers)"
      ],
      "execution_count": 0,
      "outputs": [
        {
          "output_type": "stream",
          "text": [
            "[1, 2, 3, 4]\n"
          ],
          "name": "stdout"
        }
      ]
    }
  ]
}