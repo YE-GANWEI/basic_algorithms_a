{
  "nbformat": 4,
  "nbformat_minor": 0,
  "metadata": {
    "colab": {
      "name": "yeiheihei.ipynb",
      "provenance": [],
      "collapsed_sections": [],
      "include_colab_link": true
    },
    "kernelspec": {
      "name": "python3",
      "display_name": "Python 3"
    }
  },
  "cells": [
    {
      "cell_type": "markdown",
      "metadata": {
        "id": "view-in-github",
        "colab_type": "text"
      },
      "source": [
        "<a href=\"https://colab.research.google.com/github/YE-GANWEI/basic_algorithms_a/blob/master/yeiheihei.ipynb\" target=\"_parent\"><img src=\"https://colab.research.google.com/assets/colab-badge.svg\" alt=\"Open In Colab\"/></a>"
      ]
    },
    {
      "cell_type": "markdown",
      "metadata": {
        "id": "aniM-pEI3Exs",
        "colab_type": "text"
      },
      "source": [
        "#変数を導入する\n",
        "   1."
      ]
    },
    {
      "cell_type": "code",
      "metadata": {
        "id": "QtZ_S7l57c-3",
        "colab_type": "code",
        "outputId": "2c16cf3c-fca2-48dd-d655-28c0a0883515",
        "colab": {
          "base_uri": "https://localhost:8080/",
          "height": 34
        }
      },
      "source": [
        "x=2\n",
        "print(x)"
      ],
      "execution_count": 0,
      "outputs": [
        {
          "output_type": "stream",
          "text": [
            "2\n"
          ],
          "name": "stdout"
        }
      ]
    },
    {
      "cell_type": "markdown",
      "metadata": {
        "id": "T4Kfct917ga2",
        "colab_type": "text"
      },
      "source": [
        "2."
      ]
    },
    {
      "cell_type": "code",
      "metadata": {
        "id": "iUBrAYUF3Ttb",
        "colab_type": "code",
        "outputId": "c05abf9b-d157-4687-d4b2-8cc6878b7ec1",
        "colab": {
          "base_uri": "https://localhost:8080/",
          "height": 68
        }
      },
      "source": [
        "x=1   #xは整数\n",
        "print(x)\n",
        "x=\"Hello\"   #xは文字列\n",
        "print(x)\n",
        "x=[1,2,3]  #xは1,2,3のリスト\n",
        "print(x)\n"
      ],
      "execution_count": 0,
      "outputs": [
        {
          "output_type": "stream",
          "text": [
            "1\n",
            "Hello\n",
            "[1, 2, 3]\n"
          ],
          "name": "stdout"
        }
      ]
    },
    {
      "cell_type": "markdown",
      "metadata": {
        "id": "SBptNrqn4X5j",
        "colab_type": "text"
      },
      "source": [
        "3."
      ]
    },
    {
      "cell_type": "code",
      "metadata": {
        "id": "nHbW39dT4Pxr",
        "colab_type": "code",
        "outputId": "1e38d2bf-492d-4123-f5f6-693e3e0cae0b",
        "colab": {
          "base_uri": "https://localhost:8080/",
          "height": 34
        }
      },
      "source": [
        "y=x\n",
        "print(y)"
      ],
      "execution_count": 0,
      "outputs": [
        {
          "output_type": "stream",
          "text": [
            "[1, 2, 3]\n"
          ],
          "name": "stdout"
        }
      ]
    },
    {
      "cell_type": "markdown",
      "metadata": {
        "id": "Ua_qjj8x4auT",
        "colab_type": "text"
      },
      "source": [
        "4.append()を使って、xの変数に４を追加する"
      ]
    },
    {
      "cell_type": "code",
      "metadata": {
        "id": "ieJuwzPC4mj7",
        "colab_type": "code",
        "outputId": "767aabef-31d7-47ea-8c6f-f709208852d2",
        "colab": {
          "base_uri": "https://localhost:8080/",
          "height": 34
        }
      },
      "source": [
        "x.append(4)\n",
        "print(y)"
      ],
      "execution_count": 0,
      "outputs": [
        {
          "output_type": "stream",
          "text": [
            "[1, 2, 3, 4]\n"
          ],
          "name": "stdout"
        }
      ]
    },
    {
      "cell_type": "markdown",
      "metadata": {
        "id": "KTYNVS2n5PS-",
        "colab_type": "text"
      },
      "source": [
        "5.xに他のものに導入し、ｙを出力してみる"
      ]
    },
    {
      "cell_type": "code",
      "metadata": {
        "id": "eqVDZHMb5R0h",
        "colab_type": "code",
        "outputId": "78cf36ff-cb2e-496c-f133-1a5b6e54f9d7",
        "colab": {
          "base_uri": "https://localhost:8080/",
          "height": 34
        }
      },
      "source": [
        "x=\"something else\"\n",
        "print(y)"
      ],
      "execution_count": 0,
      "outputs": [
        {
          "output_type": "stream",
          "text": [
            "[1, 2, 3, 4]\n"
          ],
          "name": "stdout"
        }
      ]
    },
    {
      "cell_type": "markdown",
      "metadata": {
        "id": "eWUTjUWW5_U1",
        "colab_type": "text"
      },
      "source": [
        "6.４をｘに導入し、"
      ]
    },
    {
      "cell_type": "code",
      "metadata": {
        "id": "R6LR5lTr7ICW",
        "colab_type": "code",
        "outputId": "892595d5-73d8-4c41-a46f-b8d3381fc890",
        "colab": {
          "base_uri": "https://localhost:8080/",
          "height": 34
        }
      },
      "source": [
        "x=4\n",
        "type(x)"
      ],
      "execution_count": 0,
      "outputs": [
        {
          "output_type": "execute_result",
          "data": {
            "text/plain": [
              "int"
            ]
          },
          "metadata": {
            "tags": []
          },
          "execution_count": 11
        }
      ]
    },
    {
      "cell_type": "markdown",
      "metadata": {
        "id": "E8W_P4L57nvv",
        "colab_type": "text"
      },
      "source": [
        "7."
      ]
    },
    {
      "cell_type": "code",
      "metadata": {
        "id": "6v4VLWYB7MvX",
        "colab_type": "code",
        "outputId": "68f1a7d9-0174-432a-adba-c3b0ab2b3800",
        "colab": {
          "base_uri": "https://localhost:8080/",
          "height": 34
        }
      },
      "source": [
        "x=\"hello\"\n",
        "type(x)"
      ],
      "execution_count": 0,
      "outputs": [
        {
          "output_type": "execute_result",
          "data": {
            "text/plain": [
              "str"
            ]
          },
          "metadata": {
            "tags": []
          },
          "execution_count": 12
        }
      ]
    },
    {
      "cell_type": "markdown",
      "metadata": {
        "id": "89qghZbi7oyX",
        "colab_type": "text"
      },
      "source": [
        "8."
      ]
    },
    {
      "cell_type": "code",
      "metadata": {
        "id": "j1ZcZCu87Snm",
        "colab_type": "code",
        "outputId": "ad53a741-aa74-4986-b15a-43f8ceeb529e",
        "colab": {
          "base_uri": "https://localhost:8080/",
          "height": 34
        }
      },
      "source": [
        "x=3.14159\n",
        "type(x)"
      ],
      "execution_count": 0,
      "outputs": [
        {
          "output_type": "execute_result",
          "data": {
            "text/plain": [
              "float"
            ]
          },
          "metadata": {
            "tags": []
          },
          "execution_count": 13
        }
      ]
    },
    {
      "cell_type": "markdown",
      "metadata": {
        "id": "UT_TLTEc8MHP",
        "colab_type": "text"
      },
      "source": [
        "#算数\n",
        "1."
      ]
    },
    {
      "cell_type": "code",
      "metadata": {
        "id": "CAOt7-DH8Ucv",
        "colab_type": "code",
        "outputId": "65c8578f-64c5-48f1-c0cb-82bc1c70e5ba",
        "colab": {
          "base_uri": "https://localhost:8080/",
          "height": 34
        }
      },
      "source": [
        "print((5+2)*(12/4))"
      ],
      "execution_count": 0,
      "outputs": [
        {
          "output_type": "stream",
          "text": [
            "21.0\n"
          ],
          "name": "stdout"
        }
      ]
    },
    {
      "cell_type": "markdown",
      "metadata": {
        "id": "Z38dSMsz8kyv",
        "colab_type": "text"
      },
      "source": [
        "2."
      ]
    },
    {
      "cell_type": "code",
      "metadata": {
        "id": "JmjV2_rW8lzP",
        "colab_type": "code",
        "outputId": "cff7fecd-4c2c-4eda-f8ad-acd5b254987f",
        "colab": {
          "base_uri": "https://localhost:8080/",
          "height": 51
        }
      },
      "source": [
        "print(11/3)\n",
        "print(11//3)"
      ],
      "execution_count": 0,
      "outputs": [
        {
          "output_type": "stream",
          "text": [
            "3.6666666666666665\n",
            "3\n"
          ],
          "name": "stdout"
        }
      ]
    },
    {
      "cell_type": "markdown",
      "metadata": {
        "id": "I6W-AXEu87xP",
        "colab_type": "text"
      },
      "source": [
        "3."
      ]
    },
    {
      "cell_type": "code",
      "metadata": {
        "id": "2dMa73BK89au",
        "colab_type": "code",
        "outputId": "e8f41d06-b386-4217-8d86-41e3c00de5a5",
        "colab": {
          "base_uri": "https://localhost:8080/",
          "height": 34
        }
      },
      "source": [
        "print(2**5)"
      ],
      "execution_count": 0,
      "outputs": [
        {
          "output_type": "stream",
          "text": [
            "32\n"
          ],
          "name": "stdout"
        }
      ]
    },
    {
      "cell_type": "markdown",
      "metadata": {
        "id": "Ms0N6BkC-FS3",
        "colab_type": "text"
      },
      "source": [
        "#2\n",
        "1."
      ]
    },
    {
      "cell_type": "code",
      "metadata": {
        "id": "cV1sTpGM-Kp8",
        "colab_type": "code",
        "outputId": "42715094-9fbc-44aa-8e01-7e30f55f2d6e",
        "colab": {
          "base_uri": "https://localhost:8080/",
          "height": 34
        }
      },
      "source": [
        "x=bin(12)\n",
        "print(x)"
      ],
      "execution_count": 0,
      "outputs": [
        {
          "output_type": "stream",
          "text": [
            "0b1100\n"
          ],
          "name": "stdout"
        }
      ]
    },
    {
      "cell_type": "markdown",
      "metadata": {
        "id": "pWIi7Pl1-0rr",
        "colab_type": "text"
      },
      "source": [
        "2."
      ]
    },
    {
      "cell_type": "code",
      "metadata": {
        "id": "WCL06eRu-1bq",
        "colab_type": "code",
        "outputId": "b62e7b31-606f-4519-aefe-b55bfe67117c",
        "colab": {
          "base_uri": "https://localhost:8080/",
          "height": 34
        }
      },
      "source": [
        "x=bin(4)\n",
        "print(x)"
      ],
      "execution_count": 0,
      "outputs": [
        {
          "output_type": "stream",
          "text": [
            "0b100\n"
          ],
          "name": "stdout"
        }
      ]
    },
    {
      "cell_type": "markdown",
      "metadata": {
        "id": "-7i8t0ue_UUC",
        "colab_type": "text"
      },
      "source": [
        "3."
      ]
    },
    {
      "cell_type": "code",
      "metadata": {
        "id": "4CjOrijA-6H6",
        "colab_type": "code",
        "outputId": "7b5a163c-7ae7-4ee2-e612-b720636151e7",
        "colab": {
          "base_uri": "https://localhost:8080/",
          "height": 34
        }
      },
      "source": [
        "x=12|4\n",
        "print(bin(x))"
      ],
      "execution_count": 0,
      "outputs": [
        {
          "output_type": "stream",
          "text": [
            "0b1100\n"
          ],
          "name": "stdout"
        }
      ]
    },
    {
      "cell_type": "markdown",
      "metadata": {
        "id": "nyYYsnMP_Vp6",
        "colab_type": "text"
      },
      "source": [
        "4."
      ]
    },
    {
      "cell_type": "code",
      "metadata": {
        "id": "nA5QZXsW_Wji",
        "colab_type": "code",
        "outputId": "e49070a8-adeb-4963-b936-65e516bfe16d",
        "colab": {
          "base_uri": "https://localhost:8080/",
          "height": 238
        }
      },
      "source": [
        "a=5\n",
        "a_bin=bin(a)\n",
        "print(a)\n",
        "b=67\n",
        "b_bin=bin(b)\n",
        "print(b)\n",
        "print(a and b)\n",
        "print(a or b)\n",
        "print(a << b)\n",
        "print(a >> b)\n",
        "print(~ a)\n",
        "print(~ b)\n",
        "print(bin(5))\n",
        "print(bin(67))\n",
        "print(bin(5&67))\n",
        "print(bin(5|67))\n",
        "print(bin(5^67))"
      ],
      "execution_count": 0,
      "outputs": [
        {
          "output_type": "stream",
          "text": [
            "5\n",
            "67\n",
            "67\n",
            "5\n",
            "737869762948382064640\n",
            "0\n",
            "-6\n",
            "-68\n",
            "0b101\n",
            "0b1000011\n",
            "0b1\n",
            "0b1000111\n",
            "0b1000110\n"
          ],
          "name": "stdout"
        }
      ]
    }
  ]
}